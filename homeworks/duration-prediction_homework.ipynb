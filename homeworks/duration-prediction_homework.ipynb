{
 "cells": [
  {
   "cell_type": "code",
   "execution_count": 1,
   "id": "9d767d29-773f-49f5-aa56-42b635f09ad2",
   "metadata": {},
   "outputs": [
    {
     "name": "stdout",
     "output_type": "stream",
     "text": [
      "Python 3.12.3\n"
     ]
    }
   ],
   "source": [
    "!python -V"
   ]
  },
  {
   "cell_type": "code",
   "execution_count": 2,
   "id": "de890d5b-b559-4046-a404-49acf5483e45",
   "metadata": {},
   "outputs": [],
   "source": [
    "import pandas as pd\n",
    "import numpy as np\n",
    "import seaborn as sns\n",
    "import matplotlib.pyplot as plt\n",
    "\n",
    "from sklearn.feature_extraction import DictVectorizer \n",
    "from sklearn.linear_model import LinearRegression, Lasso\n",
    "from sklearn.metrics import mean_squared_error"
   ]
  },
  {
   "cell_type": "markdown",
   "id": "0cdeaef5-e312-4122-a61e-ff392e127d91",
   "metadata": {},
   "source": [
    "# Explore data"
   ]
  },
  {
   "cell_type": "code",
   "execution_count": 3,
   "id": "3be6afc5-557e-4693-88aa-c12d647b5010",
   "metadata": {},
   "outputs": [],
   "source": [
    "data_path = \"~/notebooks/data/\"\n",
    "df = pd.read_parquet(data_path + \"yellow_tripdata_2023-01.parquet\")"
   ]
  },
  {
   "cell_type": "code",
   "execution_count": 4,
   "id": "590d381f-f240-43a8-bc6d-356b82609800",
   "metadata": {},
   "outputs": [
    {
     "name": "stdout",
     "output_type": "stream",
     "text": [
      "<class 'pandas.core.frame.DataFrame'>\n",
      "RangeIndex: 3066766 entries, 0 to 3066765\n",
      "Data columns (total 19 columns):\n",
      " #   Column                 Dtype         \n",
      "---  ------                 -----         \n",
      " 0   VendorID               int64         \n",
      " 1   tpep_pickup_datetime   datetime64[us]\n",
      " 2   tpep_dropoff_datetime  datetime64[us]\n",
      " 3   passenger_count        float64       \n",
      " 4   trip_distance          float64       \n",
      " 5   RatecodeID             float64       \n",
      " 6   store_and_fwd_flag     object        \n",
      " 7   PULocationID           int64         \n",
      " 8   DOLocationID           int64         \n",
      " 9   payment_type           int64         \n",
      " 10  fare_amount            float64       \n",
      " 11  extra                  float64       \n",
      " 12  mta_tax                float64       \n",
      " 13  tip_amount             float64       \n",
      " 14  tolls_amount           float64       \n",
      " 15  improvement_surcharge  float64       \n",
      " 16  total_amount           float64       \n",
      " 17  congestion_surcharge   float64       \n",
      " 18  airport_fee            float64       \n",
      "dtypes: datetime64[us](2), float64(12), int64(4), object(1)\n",
      "memory usage: 444.6+ MB\n"
     ]
    }
   ],
   "source": [
    "df.info()"
   ]
  },
  {
   "cell_type": "code",
   "execution_count": 5,
   "id": "20891037-fece-40ce-9f0a-5c4f3a68acb9",
   "metadata": {},
   "outputs": [
    {
     "data": {
      "text/plain": [
       "42.59435124195458"
      ]
     },
     "execution_count": 5,
     "metadata": {},
     "output_type": "execute_result"
    }
   ],
   "source": [
    "#df.tpep_pickup_datetime = pd.to_datetime(df.tpep_pickup_datetime)\n",
    "#df.tpep_dropoff_datetime = pd.to_datetime(df.tpep_dropoff_datetime)\n",
    "\n",
    "df['duration'] = df.tpep_dropoff_datetime - df.tpep_pickup_datetime\n",
    "df.duration = df.duration.apply(lambda td: td.total_seconds()/60)\n",
    "df.duration.std()"
   ]
  },
  {
   "cell_type": "code",
   "execution_count": 6,
   "id": "4b81b23c-2525-43b7-ad7c-b0a7cdb66efc",
   "metadata": {},
   "outputs": [
    {
     "data": {
      "text/plain": [
       "0.9812202822125979"
      ]
     },
     "execution_count": 6,
     "metadata": {},
     "output_type": "execute_result"
    }
   ],
   "source": [
    "((df.duration >= 1) & (df.duration <= 60)).mean()"
   ]
  },
  {
   "cell_type": "code",
   "execution_count": null,
   "id": "8c7ad9f9-9e68-4374-9987-6259d58e88cc",
   "metadata": {},
   "outputs": [],
   "source": []
  },
  {
   "cell_type": "markdown",
   "id": "2eed178e-9a48-4a2d-9462-e05003d160bc",
   "metadata": {},
   "source": [
    "# Read and transform training and validation datasets"
   ]
  },
  {
   "cell_type": "code",
   "execution_count": 7,
   "id": "b4c12e2d-aa1f-4d67-8211-ce5089524bf9",
   "metadata": {},
   "outputs": [],
   "source": [
    "\n",
    "def read_dataframe(filename):\n",
    "    print(filename)\n",
    "\n",
    "    df = pd.read_parquet(filename)\n",
    "    \n",
    "    #df.tpep_pickup_datetime = pd.to_datetime(df.tpep_pickup_datetime)\n",
    "    #df.tpep_dropoff_datetime = pd.to_datetime(df.tpep_dropoff_datetime)\n",
    "    \n",
    "    df['duration'] = df.tpep_dropoff_datetime - df.tpep_pickup_datetime\n",
    "    df.duration = df.duration.apply(lambda td: td.total_seconds()/60)\n",
    "    print(f\"Duration std.dev.: {df.duration.std()}\")\n",
    "    \n",
    "    # Most of the data (i.e. 96%) has a duration of 1 hour or less, so from a business point of view, it is worth focusing on predicting these cases and not the other 2%\n",
    "    print(f\"Percentage of data with a duration > 1 and < 60 minutes: {((df.duration >= 1) & (df.duration <= 60)).mean()}\")\n",
    "    df = df[(df.duration >= 1) & (df.duration <= 60)]\n",
    "    \n",
    "    # Define features to use\n",
    "    categorical = ['PULocationID', 'DOLocationID']\n",
    "    numerical = ['trip_distance']\n",
    "    \n",
    "    df[categorical] = df[categorical].astype(str) # converted to string to be able to use teh dictionary vectorizer\n",
    "\n",
    "    return df"
   ]
  },
  {
   "cell_type": "code",
   "execution_count": 8,
   "id": "f3ae1e05-c301-44b4-984c-8aaf14b092a8",
   "metadata": {},
   "outputs": [
    {
     "name": "stdout",
     "output_type": "stream",
     "text": [
      "~/notebooks/data/yellow_tripdata_2023-01.parquet\n",
      "Duration std.dev.: 42.59435124195458\n",
      "Percentage of data with a duration > 1 and < 60 minutes: 0.9812202822125979\n",
      "~/notebooks/data/yellow_tripdata_2023-02.parquet\n",
      "Duration std.dev.: 42.84210176105113\n",
      "Percentage of data with a duration > 1 and < 60 minutes: 0.9800944077722545\n"
     ]
    }
   ],
   "source": [
    "df_train = read_dataframe(data_path + \"yellow_tripdata_2023-01.parquet\")\n",
    "df_val = read_dataframe(data_path + \"yellow_tripdata_2023-02.parquet\")"
   ]
  },
  {
   "cell_type": "code",
   "execution_count": 9,
   "id": "1c673c81-7031-41a9-92d5-aeb8cb7077e2",
   "metadata": {},
   "outputs": [
    {
     "data": {
      "text/plain": [
       "(3009173, 2855951)"
      ]
     },
     "execution_count": 9,
     "metadata": {},
     "output_type": "execute_result"
    }
   ],
   "source": [
    "len(df_train), len(df_val)"
   ]
  },
  {
   "cell_type": "code",
   "execution_count": 10,
   "id": "8ed6447d-b6f7-493f-b766-a4da041b23ee",
   "metadata": {},
   "outputs": [
    {
     "data": {
      "text/plain": [
       "((3009173, 20), (2855951, 20))"
      ]
     },
     "execution_count": 10,
     "metadata": {},
     "output_type": "execute_result"
    }
   ],
   "source": [
    "df_train.shape, df_val.shape "
   ]
  },
  {
   "cell_type": "code",
   "execution_count": null,
   "id": "6b1cc247-d776-46d7-bb97-b8526fde6f12",
   "metadata": {},
   "outputs": [],
   "source": []
  },
  {
   "cell_type": "markdown",
   "id": "16a814f4-be1b-4fb9-92d2-38a4495abc18",
   "metadata": {},
   "source": [
    "# Encode the data, first turn each of the rows into a dictionary and then apply a dictionary vectorizer to obtain the feature matrix "
   ]
  },
  {
   "cell_type": "code",
   "execution_count": 11,
   "id": "289211b2-875e-48be-ba8b-882175346c7e",
   "metadata": {},
   "outputs": [],
   "source": [
    "# Define features to use\n",
    "categorical = ['PULocationID', 'DOLocationID']\n",
    "numerical = ['trip_distance']\n",
    "\n",
    "dv = DictVectorizer() # Vectorize a dictionary\n",
    "\n",
    "train_dicts = df_train[categorical].to_dict(orient='records') \n",
    "X_train = dv.fit_transform(train_dicts) # this creates a feature matrix that can be used to train a model\n",
    "\n",
    "val_dicts = df_val[categorical].to_dict(orient='records')\n",
    "X_val = dv.transform(val_dicts)"
   ]
  },
  {
   "cell_type": "code",
   "execution_count": 12,
   "id": "90035d91-af55-458d-95ec-3601cc82186f",
   "metadata": {},
   "outputs": [
    {
     "data": {
      "text/plain": [
       "(3009173, 515)"
      ]
     },
     "execution_count": 12,
     "metadata": {},
     "output_type": "execute_result"
    }
   ],
   "source": [
    "X_train.shape"
   ]
  },
  {
   "cell_type": "code",
   "execution_count": 13,
   "id": "9194b053-fa8f-4258-aaec-18e22fd0cdb0",
   "metadata": {},
   "outputs": [],
   "source": [
    "target = 'duration'\n",
    "y_train = df_train[target].values\n",
    "y_val = df_val[target].values"
   ]
  },
  {
   "cell_type": "code",
   "execution_count": 14,
   "id": "28b54f19-d80e-4ed1-a96e-158dae77f249",
   "metadata": {},
   "outputs": [
    {
     "data": {
      "text/plain": [
       "7.649261932106969"
      ]
     },
     "execution_count": 14,
     "metadata": {},
     "output_type": "execute_result"
    }
   ],
   "source": [
    "# Train model\n",
    "lr = LinearRegression()\n",
    "lr.fit(X_train, y_train)\n",
    "\n",
    "# Prediction\n",
    "y_pred = lr.predict(X_train)\n",
    "\n",
    "# Evaluation\n",
    "np.sqrt(mean_squared_error(y_train, y_pred))"
   ]
  },
  {
   "cell_type": "code",
   "execution_count": 15,
   "id": "1d7c83c0-cf6d-4ba2-b864-f297856ccd6a",
   "metadata": {},
   "outputs": [
    {
     "data": {
      "text/plain": [
       "7.811818743246608"
      ]
     },
     "execution_count": 15,
     "metadata": {},
     "output_type": "execute_result"
    }
   ],
   "source": [
    "# Prediction\n",
    "y_pred = lr.predict(X_val)\n",
    "\n",
    "# Evaluation\n",
    "np.sqrt(mean_squared_error(y_val, y_pred))"
   ]
  },
  {
   "cell_type": "code",
   "execution_count": null,
   "id": "4c3fc528-0d4a-47df-a60e-8639270a95e7",
   "metadata": {},
   "outputs": [],
   "source": []
  }
 ],
 "metadata": {
  "kernelspec": {
   "display_name": "Python 3 (ipykernel)",
   "language": "python",
   "name": "python3"
  },
  "language_info": {
   "codemirror_mode": {
    "name": "ipython",
    "version": 3
   },
   "file_extension": ".py",
   "mimetype": "text/x-python",
   "name": "python",
   "nbconvert_exporter": "python",
   "pygments_lexer": "ipython3",
   "version": "3.12.3"
  }
 },
 "nbformat": 4,
 "nbformat_minor": 5
}
